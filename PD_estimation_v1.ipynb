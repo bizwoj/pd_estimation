{
 "cells": [
  {
   "cell_type": "markdown",
   "id": "30f62580-f2ca-420a-b3cc-b949f69f2abe",
   "metadata": {
    "jp-MarkdownHeadingCollapsed": true,
    "tags": []
   },
   "source": [
    "---\n",
    "## Load datasets\n",
    "---"
   ]
  },
  {
   "cell_type": "code",
   "execution_count": null,
   "id": "c864421e-4e98-438c-b04f-b6c648c90036",
   "metadata": {},
   "outputs": [],
   "source": [
    "# import basic packages\n",
    "import numpy as np\n",
    "import pandas as pd"
   ]
  },
  {
   "cell_type": "code",
   "execution_count": null,
   "id": "3263f4fb-e541-43aa-b80a-455b640fdfcc",
   "metadata": {},
   "outputs": [],
   "source": [
    "# load input data from csv files\n",
    "data = pd.read_csv('./input_data/DataPD.txt')\n",
    "\n",
    "# get a glimpse of data\n",
    "data.head()"
   ]
  },
  {
   "cell_type": "code",
   "execution_count": null,
   "id": "f471ce4b-09ff-4b4a-9810-d0067ff542f2",
   "metadata": {},
   "outputs": [],
   "source": [
    "# load description of data\n",
    "desc = pd.read_csv('./input_data/Description.txt')\n",
    "desc.head()"
   ]
  },
  {
   "cell_type": "code",
   "execution_count": null,
   "id": "f52b155a-2af4-412d-b13a-666c7a6fcb54",
   "metadata": {},
   "outputs": [],
   "source": [
    "# display full dataframe with descriptions\n",
    "display(desc)"
   ]
  },
  {
   "cell_type": "code",
   "execution_count": null,
   "id": "cf796f44-ce52-4c90-854e-d5f33a37f2be",
   "metadata": {},
   "outputs": [],
   "source": [
    "# another shot at displaying full dataframe\n",
    "from tabulate import tabulate\n",
    "\n",
    "printout = tabulate(desc, headers='keys', tablefmt='plain')\n",
    "print(printout)\n",
    "\n",
    "# Note: useful formats:\n",
    "# >> 'latex'\n",
    "# >> 'github'\n",
    "# >> 'grid'\n",
    "# >> and many more..."
   ]
  },
  {
   "cell_type": "code",
   "execution_count": null,
   "id": "06a73b1e-2422-42ac-a35a-58e021c2884f",
   "metadata": {},
   "outputs": [],
   "source": [
    "# if package is missing, try installing with pip\n",
    "pip install tabulate"
   ]
  },
  {
   "cell_type": "markdown",
   "id": "df073f7d-de2a-46e9-b745-8045d4ff5ce1",
   "metadata": {
    "jp-MarkdownHeadingCollapsed": true,
    "tags": []
   },
   "source": [
    "---\n",
    "## Analyze datasets\n",
    "---"
   ]
  },
  {
   "cell_type": "code",
   "execution_count": null,
   "id": "74bc6f2c-9e12-41dc-87b1-ee3f8c314c68",
   "metadata": {},
   "outputs": [],
   "source": [
    "# description: what kind of variables we have?\n",
    "desc.sort_values(by='Type')"
   ]
  },
  {
   "cell_type": "code",
   "execution_count": null,
   "id": "6cbdc452-9635-4287-aad4-9daa802e093d",
   "metadata": {},
   "outputs": [],
   "source": [
    "# list of distinct variable types\n",
    "variable_types = desc['Type'].unique()\n",
    "print(variable_types)"
   ]
  },
  {
   "cell_type": "code",
   "execution_count": null,
   "id": "d53e44ac-f25d-4759-ba0a-27f972d74eea",
   "metadata": {},
   "outputs": [],
   "source": [
    "# check how many values are missing in the main 'data'\n",
    "\n",
    "data_stats = pd.DataFrame()\n",
    "\n",
    "for col in data.columns:\n",
    "    name = col\n",
    "    valid = sum(data[col].notna())\n",
    "    empty = sum(data[col].isna())\n",
    "    \n",
    "    row = pd.Series({\n",
    "        'Name' : name,\n",
    "        'Valid' : valid,\n",
    "        'Empty' : empty\n",
    "    })\n",
    "    \n",
    "    data_stats = data_stats.append(row, ignore_index=True)\n",
    "\n",
    "# check the dataframe\n",
    "data_stats.head()"
   ]
  },
  {
   "cell_type": "code",
   "execution_count": null,
   "id": "99f59ee2-a6e6-4221-a3b0-0350fe82693c",
   "metadata": {},
   "outputs": [],
   "source": [
    "# remove 'ID' and 'deflag' (dependent variable) from analysis\n",
    "data_stats = data_stats.drop([0,1])"
   ]
  },
  {
   "cell_type": "code",
   "execution_count": null,
   "id": "bdc93650-3679-41aa-a61d-a8e45db4503e",
   "metadata": {},
   "outputs": [],
   "source": [
    "# display data stats\n",
    "print(tabulate(data_stats, headers='keys', tablefmt='simple'))"
   ]
  },
  {
   "cell_type": "code",
   "execution_count": null,
   "id": "18f07486-6d85-4fb4-8885-19759ec31e2c",
   "metadata": {},
   "outputs": [],
   "source": [
    "# average and standard deviation\n",
    "average = data.mean().reset_index().rename(columns={'index':'Name', 0:'Average'})\n",
    "std_dev = data.std().reset_index().rename(columns={'index':'Name', 0:'Std_Dev'})"
   ]
  },
  {
   "cell_type": "code",
   "execution_count": null,
   "id": "c382e746-7807-4c7d-97e8-cc464157f2e0",
   "metadata": {},
   "outputs": [],
   "source": [
    "# compute quantiles\n",
    "quant = data.quantile(q=np.linspace(0.00, 1.00, 5))\n",
    "quant.head()"
   ]
  },
  {
   "cell_type": "code",
   "execution_count": null,
   "id": "44bc0685-5299-46fd-b135-d9fa802028f7",
   "metadata": {},
   "outputs": [],
   "source": [
    "# quantiles - transpose\n",
    "quant_1 = quant.transpose()\n",
    "\n",
    "# quantiles - rename columns\n",
    "quant_1.columns = ['Min', 'Q_0.25', 'Q_0.50', 'Q_0.75', 'Max']\n",
    "\n",
    "# quantiles - put index as another column\n",
    "quant_1 = quant_1.reset_index()\n",
    "quant_1 = quant_1.rename(columns={'index': 'Name'})\n",
    "\n",
    "# verify\n",
    "quant_1.head()"
   ]
  },
  {
   "cell_type": "code",
   "execution_count": null,
   "id": "9a1acf46-8210-49c2-ba60-694faa3b7c67",
   "metadata": {},
   "outputs": [],
   "source": [
    "# combine all data statistics into one dataframe\n",
    "data_stats_1 = data_stats.copy()\n",
    "data_stats_1 = data_stats_1.merge(average, how='left', on='Name', validate='one_to_one')\n",
    "data_stats_1 = data_stats_1.merge(std_dev, how='left', on='Name', validate='one_to_one')\n",
    "data_stats_1 = data_stats_1.merge(quant_1, how='left', on='Name', validate='one_to_one')\n",
    "display(data_stats_1)"
   ]
  },
  {
   "cell_type": "code",
   "execution_count": null,
   "id": "39cdf172-88fb-4448-a941-467aac59ab92",
   "metadata": {},
   "outputs": [],
   "source": [
    "# some simple checks\n",
    "print(f\"==> NA values: {sum(data['var2_AQ'].isna())}\")\n",
    "print(f\"==> NA values: {sum(data['var2_AQ'] >= 5)}\")"
   ]
  },
  {
   "cell_type": "markdown",
   "id": "a3651ba4-f63c-4f49-a2ea-699d2a5e3fb7",
   "metadata": {
    "jp-MarkdownHeadingCollapsed": true,
    "tags": []
   },
   "source": [
    "---\n",
    "## Plot distributions\n",
    "---"
   ]
  },
  {
   "cell_type": "code",
   "execution_count": null,
   "id": "dbc5bf3b-1787-4efe-b96a-2a3220096508",
   "metadata": {},
   "outputs": [],
   "source": [
    "# import plotting package\n",
    "import matplotlib.pyplot as plt"
   ]
  },
  {
   "cell_type": "code",
   "execution_count": null,
   "id": "eb7f5eb4-b270-4d27-acbb-61a82095006c",
   "metadata": {},
   "outputs": [],
   "source": [
    "# check one of the variables\n",
    "plt.hist(data['var1_AQ'], bins=100);"
   ]
  },
  {
   "cell_type": "code",
   "execution_count": null,
   "id": "9530aaa7-98b3-4886-b8f6-713fa0cdc8d0",
   "metadata": {},
   "outputs": [],
   "source": [
    "# check all variables at once\n",
    "fig, axes = plt.subplots(5, 6, figsize=(20,20), sharex=False, sharey=False)\n",
    "\n",
    "\n",
    "# some fancier colors\n",
    "color_list = ['tab:red', 'tab:blue', 'tab:green', 'tab:purple', 'tab:olive', 'tab:brown', 'tab:orange']\n",
    "type_list = desc['Type'].unique()\n",
    "type_color_dict = dict(zip(type_list, color_list))\n",
    "\n",
    "\n",
    "# enumerate over all variables\n",
    "for i, (ax,col) in enumerate(zip(axes.flatten(), data.columns[2:])):\n",
    "    \n",
    "    # prepare values for the histogram\n",
    "    values = data[col]\n",
    "    \n",
    "    # decide on the color\n",
    "    var_type = desc[desc.Criteria == col].Type.values[0]\n",
    "    plot_color = type_color_dict[var_type]\n",
    "    \n",
    "    ## remove some outliers from histograms\n",
    "    cond_min = values >= values.quantile(q=0.01)\n",
    "    cond_max = values <= values.quantile(q=0.99)\n",
    "    values = values[ cond_min & cond_max ]\n",
    "    \n",
    "    ax.hist(values, alpha=0.8, bins=100, density=True, stacked=True, label=col, color=plot_color)\n",
    "    ax.set_title(col)"
   ]
  },
  {
   "cell_type": "code",
   "execution_count": null,
   "id": "d6bfda2a-e9ff-4780-aa45-f143c4e3c4ad",
   "metadata": {},
   "outputs": [],
   "source": [
    "correlation_matrix = data.corr()"
   ]
  },
  {
   "cell_type": "code",
   "execution_count": null,
   "id": "8de10960-4d81-462c-8e89-b2785f2d6842",
   "metadata": {},
   "outputs": [],
   "source": [
    "# plot correlation matrix\n",
    "plt.matshow(correlation_matrix);"
   ]
  },
  {
   "cell_type": "code",
   "execution_count": null,
   "id": "d0931597-f177-4714-a257-7cda7d2e2f45",
   "metadata": {},
   "outputs": [],
   "source": [
    "# plot correlation matrix with scale-bar\n",
    "fig = plt.figure();\n",
    "ax = fig.add_subplot(111);\n",
    "cax = ax.matshow(correlation_matrix, interpolation='nearest');\n",
    "fig.colorbar(cax);"
   ]
  },
  {
   "cell_type": "markdown",
   "id": "4bd57e0f-f9e3-4573-b56d-84a4b0fcbb6a",
   "metadata": {
    "jp-MarkdownHeadingCollapsed": true,
    "tags": []
   },
   "source": [
    "---\n",
    "## Regression\n",
    "---"
   ]
  },
  {
   "cell_type": "code",
   "execution_count": null,
   "id": "ce85ab6d-d2eb-413b-838a-79b53160bd7b",
   "metadata": {},
   "outputs": [],
   "source": [
    "# clean dataset - remember: there are NAs in 'X' dataset - need to be resolved\n",
    "data_regression = data.copy()\n",
    "\n",
    "# clean dataset - 99 as NA (there are many '99' entries across variables, maybe NaN?)\n",
    "cond_99 = data_regression == 99.0\n",
    "cond_99['ID'] = False\n",
    "\n",
    "data_regression = data_regression.mask(cond_99)\n",
    "\n",
    "data_regression = data_regression.fillna(value=data.median())"
   ]
  },
  {
   "cell_type": "code",
   "execution_count": null,
   "id": "29a15289-3d26-4fb3-b5a0-ba495e82fb35",
   "metadata": {},
   "outputs": [],
   "source": [
    "# prepare variables for regression\n",
    "\n",
    "# output (dependent) variable\n",
    "y = data_regression['deflag']\n",
    "\n",
    "# predictor (independent) variables\n",
    "X = data_regression.drop(columns=['ID','deflag'])"
   ]
  },
  {
   "cell_type": "code",
   "execution_count": null,
   "id": "408179a8-07e1-4ce8-bba0-7e44de65a210",
   "metadata": {},
   "outputs": [],
   "source": [
    "# prepare training/test samples\n",
    "\n",
    "# import a dedicated module from sklearn\n",
    "from sklearn.model_selection import train_test_split\n",
    "\n",
    "# split into train / test\n",
    "X_train, X_test, y_train, y_test = train_test_split(X, y, stratify=y, random_state=123, train_size = 0.8)"
   ]
  },
  {
   "cell_type": "code",
   "execution_count": null,
   "id": "dbab8703-e951-4b54-9acb-51fc21e80df7",
   "metadata": {},
   "outputs": [],
   "source": [
    "# check split size\n",
    "print(f'X_train: {X_train.shape}')\n",
    "print(f'y_train: {y_train.shape}')\n",
    "print(f'X_test:  {X_test.shape}')\n",
    "print(f'y_test:  {y_test.shape}')\n",
    "\n",
    "print(f'default ratio - train: {100*sum(y_train)/len(y_train):6.4f}%')\n",
    "print(f'default ratio - test:  {100*sum(y_test)/len(y_test):6.4f}%')"
   ]
  },
  {
   "cell_type": "code",
   "execution_count": null,
   "id": "9fb4b54e-9f04-4732-aae1-c60006a0cc0e",
   "metadata": {},
   "outputs": [],
   "source": [
    "# perform regression\n",
    "\n",
    "# define classifier\n",
    "clf = LogisticRegression()\n",
    "\n",
    "# perform fit\n",
    "clf.fit(X_train, y_train)"
   ]
  },
  {
   "cell_type": "code",
   "execution_count": null,
   "id": "7d0fe0f5-d5bc-45d6-bc39-8f712244cb85",
   "metadata": {},
   "outputs": [],
   "source": [
    "# check if classes are ok (in our case: should be just 0 and 1)\n",
    "clf.classes_"
   ]
  },
  {
   "cell_type": "code",
   "execution_count": null,
   "id": "2b10bb11-ed93-4421-a485-e8feca502ab8",
   "metadata": {},
   "outputs": [],
   "source": [
    "# check fitted coefficients\n",
    "clf.coef_"
   ]
  },
  {
   "cell_type": "code",
   "execution_count": null,
   "id": "7ccfa13b-b184-412e-ae1b-2321b7a47fdd",
   "metadata": {},
   "outputs": [],
   "source": [
    "# study some cases - check actual results\n",
    "y_test.iloc[0:4]"
   ]
  },
  {
   "cell_type": "code",
   "execution_count": null,
   "id": "e56dfa5b-01a3-414e-932f-4a92c5655e01",
   "metadata": {},
   "outputs": [],
   "source": [
    "# study some cases - check predictions on a slice from a test sample\n",
    "clf.predict(X_test.iloc[0:4])"
   ]
  },
  {
   "cell_type": "code",
   "execution_count": null,
   "id": "c97f605c-f24d-422a-b8b5-14035798aa5d",
   "metadata": {},
   "outputs": [],
   "source": [
    "# study some cases - check scores\n",
    "clf.decision_function(y_test.iloc[0:4])"
   ]
  },
  {
   "cell_type": "code",
   "execution_count": null,
   "id": "dee7b953-4288-417b-9f0c-48ce253fa714",
   "metadata": {},
   "outputs": [],
   "source": [
    "# study some cases - check probabilities on a few entries from a test sample\n",
    "clf.predict_proba(X_test.iloc[0:4])"
   ]
  },
  {
   "cell_type": "code",
   "execution_count": null,
   "id": "260b90ad-fc53-45f4-b807-7eccaddfa7bf",
   "metadata": {},
   "outputs": [],
   "source": [
    "# plot ROC curve - import dedicated packages\n",
    "from sklearn.metrics import RocCurveDisplay, roc_curve"
   ]
  },
  {
   "cell_type": "code",
   "execution_count": null,
   "id": "3e85f98e-fa74-4fd1-ae4c-de31c56938f9",
   "metadata": {},
   "outputs": [],
   "source": [
    "# plot ROC curve - prepare scores for the test sample\n",
    "y_score = clf.decision_function(X_test)\n",
    "\n",
    "# plot ROC curve - prepare elements for the plot\n",
    "fp_rate, tp_rate, thresholds = roc_curve(y_test, y_score, pos_label=clf.classes_[1])\n",
    "\n",
    "# plot ROC curve - display\n",
    "roc_display = RocCurveDisplay(fpr=fp_rate, tpr=tp_rate)\n",
    "roc_display.plot();"
   ]
  },
  {
   "cell_type": "code",
   "execution_count": null,
   "id": "ae1a427d-aebe-4970-9ea8-317ff6318f67",
   "metadata": {},
   "outputs": [],
   "source": [
    "# draw a confusion matrix - import dedicated packages\n",
    "from sklearn.metrics import ConfusionMatrixDisplay, confusion_matrix\n",
    "\n",
    "# draw a confusion matrix - prepare model predictions\n",
    "y_pred = clf.predict(X_test)\n",
    "\n",
    "# draw a confusion matrix - prepare matrix out of true and predicted results\n",
    "cm = confusion_matrix(y_test, y_pred)\n",
    "\n",
    "# draw a confusion matrix - display the matrix\n",
    "cm_display = ConfusionMatrixDisplay(cm).plot()"
   ]
  }
 ],
 "metadata": {
  "kernelspec": {
   "display_name": "Python 3",
   "language": "python",
   "name": "python3"
  },
  "language_info": {
   "codemirror_mode": {
    "name": "ipython",
    "version": 3
   },
   "file_extension": ".py",
   "mimetype": "text/x-python",
   "name": "python",
   "nbconvert_exporter": "python",
   "pygments_lexer": "ipython3",
   "version": "3.7.10"
  }
 },
 "nbformat": 4,
 "nbformat_minor": 5
}
